{
 "cells": [
  {
   "cell_type": "markdown",
   "metadata": {},
   "source": [
    "# Web Mining and Applied NLP (44-620)\n",
    "\n",
    "## Final Project: Article Summarizer\n",
    "\n",
    "### Student Name: Kellie Heckman https://github.com/krh5284/article-summarizer\n",
    "\n",
    "Perform the tasks described in the Markdown cells below.  When you have completed the assignment make sure your code cells have all been run (and have output beneath them) and ensure you have committed and pushed ALL of your changes to your assignment repository.\n",
    "\n",
    "You should bring in code from previous assignments to help you answer the questions below.\n",
    "\n",
    "Every question that requires you to write code will have a code cell underneath it; you may either write your entire solution in that cell or write it in a python file (`.py`), then import and run the appropriate code to answer the question."
   ]
  },
  {
   "cell_type": "markdown",
   "metadata": {},
   "source": [
    "1. Find on the internet an article or blog post about a topic that interests you and you are able to get the text for using the technologies we have applied in the course.  Get the html for the article and store it in a file (which you must submit with your project)"
   ]
  },
  {
   "cell_type": "code",
   "execution_count": 148,
   "metadata": {},
   "outputs": [],
   "source": [
    "import pickle\n",
    "import requests\n",
    "import spacy\n",
    "from spacytextblob.spacytextblob import SpacyTextBlob\n",
    "from collections import Counter\n",
    "from bs4 import BeautifulSoup\n",
    "import matplotlib.pyplot as plt\n",
    "from selenium import webdriver\n",
    "import time\n",
    "import nltk"
   ]
  },
  {
   "cell_type": "markdown",
   "metadata": {},
   "source": [
    "Question 1 code"
   ]
  },
  {
   "cell_type": "code",
   "execution_count": 149,
   "metadata": {},
   "outputs": [],
   "source": [
    "# using Selenium to open the webpage in the same way that a broswer does to combat cookies\n",
    "driver = webdriver.Chrome()\n",
    "url = 'https://www.gislounge.com/python-and-gis-resources/'\n",
    "driver.maximize_window()\n",
    "driver.get(url)\n",
    "\n",
    "# setting a sleep time so that all elements load after catching them\n",
    "time.sleep(5)\n",
    "content = driver.page_source.encode('utf-8').strip()\n",
    "\n",
    "# dumping into a .pkl\n",
    "with open('content.pkl', 'wb') as file:\n",
    "    pickle.dump(content, file)"
   ]
  },
  {
   "cell_type": "markdown",
   "metadata": {},
   "source": [
    "2. Read in your article's html source from the file you created in question 1 and do sentiment analysis on the article/post's text (use `.get_text()`).  Print the polarity score with an appropriate label.  Additionally print the number of sentences in the original article (with an appropriate label)"
   ]
  },
  {
   "cell_type": "markdown",
   "metadata": {},
   "source": [
    "Question 2 polarity"
   ]
  },
  {
   "cell_type": "code",
   "execution_count": 150,
   "metadata": {},
   "outputs": [
    {
     "name": "stdout",
     "output_type": "stream",
     "text": [
      "Polarity of the article is 0.1407123179850453\n"
     ]
    }
   ],
   "source": [
    "# loading trained pipeline\n",
    "nlp = spacy.load('en_core_web_sm')\n",
    "nlp.add_pipe('spacytextblob')\n",
    "\n",
    "# opening the .pkl\n",
    "with open('content.pkl', 'rb') as file:\n",
    "    code = pickle.load(file)\n",
    "\n",
    "# parsing the code using html5lib\n",
    "soup = BeautifulSoup(code, 'html5lib')\n",
    "\n",
    "# limiting to just the <div where class = 'entry-content'\n",
    "txt = soup.find('div', class_='entry-content')\n",
    "\n",
    "# running txt thru the pipeline\n",
    "blob = nlp(txt.get_text())\n",
    "print('Polarity of the article is', blob._.blob.polarity)"
   ]
  },
  {
   "cell_type": "markdown",
   "metadata": {},
   "source": [
    "Question 2 sentence count"
   ]
  },
  {
   "cell_type": "code",
   "execution_count": 151,
   "metadata": {},
   "outputs": [
    {
     "name": "stdout",
     "output_type": "stream",
     "text": [
      "Number of sentences is 63\n"
     ]
    }
   ],
   "source": [
    "# counting the number of sentences in the article\n",
    "sentence_count = len([token for token in txt])\n",
    "\n",
    "print('Number of sentences is', sentence_count)\n"
   ]
  },
  {
   "cell_type": "markdown",
   "metadata": {},
   "source": [
    "3. Load the article text into a trained `spaCy` pipeline, and determine the 5 most frequent tokens (converted to lower case).  Print the common tokens with an appropriate label.  Additionally, print the tokens their frequencies (with appropriate labels)"
   ]
  },
  {
   "cell_type": "markdown",
   "metadata": {},
   "source": [
    "Question 3 code"
   ]
  },
  {
   "cell_type": "code",
   "execution_count": 152,
   "metadata": {},
   "outputs": [
    {
     "name": "stdout",
     "output_type": "stream",
     "text": [
      "5 most frequent tokens and their count [('python', 52), ('gis', 15), ('qgis', 9), ('window', 9), ('arcgis', 8)]\n"
     ]
    }
   ],
   "source": [
    "# make all lower case and remove punctuation, stopwords, and whitespace\n",
    "important_tokens = [token.text.lower() for token in blob if not token.is_punct and not token.is_stop and not token.is_space]\n",
    "\n",
    "# counting the tokens and returning the 5 most frequent\n",
    "count = Counter(important_tokens)\n",
    "top5 = count.most_common(5)\n",
    "\n",
    "print('5 most frequent tokens and their count', top5)"
   ]
  },
  {
   "cell_type": "markdown",
   "metadata": {},
   "source": [
    "4. Load the article text into a trained `spaCy` pipeline, and determine the 5 most frequent lemmas (converted to lower case).  Print the common lemmas with an appropriate label.  Additionally, print the lemmas with their frequencies (with appropriate labels)."
   ]
  },
  {
   "cell_type": "markdown",
   "metadata": {},
   "source": [
    "Question 4 code"
   ]
  },
  {
   "cell_type": "code",
   "execution_count": 153,
   "metadata": {},
   "outputs": [
    {
     "name": "stdout",
     "output_type": "stream",
     "text": [
      "5 most frequent lemmas and their count [('python', 52), ('gis', 15), ('script', 13), ('qgis', 9), ('window', 9)]\n"
     ]
    }
   ],
   "source": [
    "# the same process as question 3 but with lemmas\n",
    "important_lemmas = [token.lemma_.lower() for token in blob if not token.is_punct and not token.is_stop and not token.is_space]\n",
    "\n",
    "lemma_count = Counter(important_lemmas)\n",
    "top5_lemma = lemma_count.most_common(5)\n",
    "\n",
    "print('5 most frequent lemmas and their count',top5_lemma)"
   ]
  },
  {
   "cell_type": "markdown",
   "metadata": {},
   "source": [
    "User defined functions for questions 5 and 6"
   ]
  },
  {
   "cell_type": "code",
   "execution_count": 154,
   "metadata": {},
   "outputs": [],
   "source": [
    "# def function for score_sentence_by_token\n",
    "def score_sentence_by_token(sentence, interesting_token):\n",
    "    # counting the number of tokens\n",
    "    token_count = len([token for token in sentence])\n",
    "    #counting the number of tokens in important_tokens\n",
    "    interesting_token = len(important_tokens)\n",
    "    # dividing interesting_token by token_count\n",
    "    token_score = interesting_token / token_count\n",
    "    return token_score\n",
    "\n",
    "\n",
    "# the same process as score_sentence_by_token but with lemmas\n",
    "def score_sentence_by_lemma(sentence, interesting_lemmas):\n",
    "    lemma_count = len([lemma for lemma in sentence])\n",
    "    interesting_lemmas = len(important_lemmas)\n",
    "    lemma_score = interesting_lemmas / lemma_count\n",
    "    return lemma_score"
   ]
  },
  {
   "cell_type": "markdown",
   "metadata": {},
   "source": [
    "5. Make a list containing the scores (using tokens) of every sentence in the article, and plot a histogram with appropriate titles and axis labels of the scores. From your histogram, what seems to be the most common range of scores (put the answer in a comment after your code)?"
   ]
  },
  {
   "cell_type": "markdown",
   "metadata": {},
   "source": [
    "Quesiton 5 code"
   ]
  },
  {
   "cell_type": "code",
   "execution_count": 155,
   "metadata": {},
   "outputs": [
    {
     "data": {
      "image/png": "[encoded data removed]",
      "text/plain": [
       "<Figure size 640x480 with 1 Axes>"
      ]
     },
     "metadata": {},
     "output_type": "display_data"
    }
   ],
   "source": [
    "sentences = [sent.text for sent in blob.sents]\n",
    "sentence_by_tokens = []\n",
    "\n",
    "for sentence in sentences:\n",
    "    score = score_sentence_by_token(sentence, important_tokens)\n",
    "    sentence_by_tokens.append(score)\n",
    "\n",
    "\n",
    "plt.hist(sentence_by_tokens, bins=70, edgecolor='black')\n",
    "plt.xlabel('Score')\n",
    "plt.ylabel('Frequency')\n",
    "plt.title('Token Scores by Sentence')\n",
    "plt.show()\n"
   ]
  },
  {
   "cell_type": "markdown",
   "metadata": {},
   "source": [
    "6. Make a list containing the scores (using lemmas) of every sentence in the article, and plot a histogram with appropriate titles and axis labels of the scores.  From your histogram, what seems to be the most common range of scores (put the answer in a comment after your code)?"
   ]
  },
  {
   "cell_type": "markdown",
   "metadata": {},
   "source": [
    "Question 6 code"
   ]
  },
  {
   "cell_type": "code",
   "execution_count": 156,
   "metadata": {},
   "outputs": [
    {
     "data": {
      "image/png": "[encoded data removed]",
      "text/plain": [
       "<Figure size 640x480 with 1 Axes>"
      ]
     },
     "metadata": {},
     "output_type": "display_data"
    }
   ],
   "source": [
    "sentences = [sent.text for sent in blob.sents]\n",
    "sentence_by_lemma = []\n",
    "\n",
    "for sentence in sentences:\n",
    "    score = score_sentence_by_lemma(sentence, important_lemmas)\n",
    "    sentence_by_lemma.append(score)\n",
    "\n",
    "plt.hist(sentence_by_lemma, bins=50, edgecolor='black')\n",
    "plt.xlabel('Score')\n",
    "plt.ylabel('Frequency')\n",
    "plt.title('Token Scores by Sentence')\n",
    "plt.show()"
   ]
  },
  {
   "cell_type": "markdown",
   "metadata": {},
   "source": [
    "7. Using the histograms from questions 5 and 6, decide a \"cutoff\" score for tokens and lemmas such that fewer than half the sentences would have a score greater than the cutoff score.  Record the scores in this Markdown cell\n",
    "\n",
    "* Cutoff Score (tokens): 8\n",
    "* Cutoff Score (lemmas): 7\n",
    "\n",
    "Feel free to change these scores as you generate your summaries.  Ideally, we're shooting for at least 6 sentences for our summary, but don't want more than 10 (these numbers are rough estimates; they depend on the length of your article)."
   ]
  },
  {
   "cell_type": "markdown",
   "metadata": {},
   "source": [
    "8. Create a summary of the article by going through every sentence in the article and adding it to an (initially) empty list if its score (based on tokens) is greater than the cutoff score you identified in question 8.  If your loop variable is named `sent`, you may find it easier to add `sent.text.strip()` to your list of sentences.  Print the summary (I would cleanly generate the summary text by `join`ing the strings in your list together with a space (`' '.join(sentence_list)`)."
   ]
  },
  {
   "cell_type": "markdown",
   "metadata": {},
   "source": [
    "Question 8 code"
   ]
  },
  {
   "cell_type": "code",
   "execution_count": 157,
   "metadata": {},
   "outputs": [
    {
     "name": "stdout",
     "output_type": "stream",
     "text": [
      "Python files are denoted with the .py file extension.\n",
      " By clicking the button, ArcMap’s python window opens.   Click the “open” button to add the script to the window.\n",
      " IDE stands for Integrated Development Environment.   Geopy\n",
      "Geocoding toolbox for Python.   Provides support for six geocoders: Google Maps, Yahoo! Open source.\n",
      " Python and GIS 101\n",
      "From Sean Giles’ blog.\n",
      "\n",
      " Also contains links to Python examples and resources.\n",
      "\n"
     ]
    }
   ],
   "source": [
    "sentences = [sent.text for sent in blob.sents]\n",
    "sentence_list = []\n",
    "\n",
    "for sentence in sentences:\n",
    "    score = score_sentence_by_token(sentence, important_tokens)\n",
    "    if score > 8:\n",
    "        sentence_list.append(sentence)\n",
    "\n",
    "pretty = ' '.join(sentence_list)\n",
    "print(pretty)"
   ]
  },
  {
   "cell_type": "markdown",
   "metadata": {},
   "source": [
    "9. Print the polarity score of your summary you generated with the token scores (with an appropriate label). Additionally, print the number of sentences in the summarized article."
   ]
  },
  {
   "cell_type": "markdown",
   "metadata": {},
   "source": [
    "Question 9 code"
   ]
  },
  {
   "cell_type": "code",
   "execution_count": 158,
   "metadata": {},
   "outputs": [
    {
     "name": "stdout",
     "output_type": "stream",
     "text": [
      "Polarity of the article is 0.0\n"
     ]
    }
   ],
   "source": [
    "blob_tokens = nlp(pretty)\n",
    "print('Polarity of the token summarized article is', blob_tokens._.blob.polarity)"
   ]
  },
  {
   "cell_type": "markdown",
   "metadata": {},
   "source": [
    "10. Create a summary of the article by going through every sentence in the article and adding it to an (initially) empty list if its score (based on lemmas) is greater than the cutoff score you identified in question 8.  If your loop variable is named `sent`, you may find it easier to add `sent.text.strip()` to your list of sentences.  Print the summary (I would cleanly generate the summary text by `join`ing the strings in your list together with a space (`' '.join(sentence_list)`)."
   ]
  },
  {
   "cell_type": "markdown",
   "metadata": {},
   "source": [
    "Question 10 code"
   ]
  },
  {
   "cell_type": "code",
   "execution_count": 161,
   "metadata": {},
   "outputs": [
    {
     "name": "stdout",
     "output_type": "stream",
     "text": [
      "Python files are denoted with the .py file extension.\n",
      " By clicking the button, ArcMap’s python window opens.   Click the “open” button to add the script to the window.\n",
      " IDE stands for Integrated Development Environment.   Geopy\n",
      "Geocoding toolbox for Python.   Provides support for six geocoders: Google Maps, Yahoo! Open source.\n",
      " Python and GIS 101\n",
      "From Sean Giles’ blog.\n",
      "\n",
      " Also contains links to Python examples and resources.\n",
      "\n"
     ]
    }
   ],
   "source": [
    "sentences = [sent.text for sent in blob.sents]\n",
    "sentence_list_lemma = []\n",
    "\n",
    "for sentence in sentences:\n",
    "    score = score_sentence_by_lemma(sentence, important_lemmas)\n",
    "    if score > 8:\n",
    "        sentence_list_lemma.append(sentence)\n",
    "\n",
    "pretty_lemma = ' '.join(sentence_list_lemma)\n",
    "print(pretty_lemma)"
   ]
  },
  {
   "cell_type": "markdown",
   "metadata": {},
   "source": [
    "11. Print the polarity score of your summary you generated with the lemma scores (with an appropriate label). Additionally, print the number of sentences in the summarized article."
   ]
  },
  {
   "cell_type": "markdown",
   "metadata": {},
   "source": [
    "Question 11 code"
   ]
  },
  {
   "cell_type": "code",
   "execution_count": 162,
   "metadata": {},
   "outputs": [
    {
     "name": "stdout",
     "output_type": "stream",
     "text": [
      "Polarity of the lemma summarized article is 0.0\n"
     ]
    }
   ],
   "source": [
    "blob_lemma = nlp(pretty_lemma)\n",
    "print('Polarity of the lemma summarized article is', blob_lemma._.blob.polarity)"
   ]
  },
  {
   "cell_type": "markdown",
   "metadata": {},
   "source": [
    "12.  Compare your polarity scores of your summaries to the polarity scores of the initial article.  Is there a difference?  Why do you think that may or may not be?.  Answer in this Markdown cell.  "
   ]
  },
  {
   "cell_type": "markdown",
   "metadata": {},
   "source": [
    "There is no difference between the polairty scores of the 2 articles because the two summaries end up being the same. I believe the two summaries are identical because the difference between the top 5 tokens and lemmas are the words 'arcgis' and 'script' and neither of those words appear in the summaries. I believe the polarity score of the summaries is zero because of the technical nature of the article."
   ]
  },
  {
   "cell_type": "markdown",
   "metadata": {},
   "source": [
    "13. Based on your reading of the original article, which summary do you think is better (if there's a difference).  Why do you think this might be?"
   ]
  }
 ],
 "metadata": {
  "kernelspec": {
   "display_name": "Python 3",
   "language": "python",
   "name": "python3"
  },
  "language_info": {
   "codemirror_mode": {
    "name": "ipython",
    "version": 3
   },
   "file_extension": ".py",
   "mimetype": "text/x-python",
   "name": "python",
   "nbconvert_exporter": "python",
   "pygments_lexer": "ipython3",
   "version": "3.9.15"
  }
 },
 "nbformat": 4,
 "nbformat_minor": 4
}
