{
 "cells": [
  {
   "cell_type": "markdown",
   "metadata": {},
   "source": [
    "# Web Mining and Applied NLP (44-620)\n",
    "\n",
    "## Final Project: Article Summarizer\n",
    "\n",
    "### Student Name: Kellie Heckman https://github.com/krh5284/article-summarizer\n",
    "\n",
    "Perform the tasks described in the Markdown cells below.  When you have completed the assignment make sure your code cells have all been run (and have output beneath them) and ensure you have committed and pushed ALL of your changes to your assignment repository.\n",
    "\n",
    "You should bring in code from previous assignments to help you answer the questions below.\n",
    "\n",
    "Every question that requires you to write code will have a code cell underneath it; you may either write your entire solution in that cell or write it in a python file (`.py`), then import and run the appropriate code to answer the question."
   ]
  },
  {
   "cell_type": "markdown",
   "metadata": {},
   "source": [
    "1. Find on the internet an article or blog post about a topic that interests you and you are able to get the text for using the technologies we have applied in the course.  Get the html for the article and store it in a file (which you must submit with your project)"
   ]
  },
  {
   "cell_type": "code",
   "execution_count": 49,
   "metadata": {},
   "outputs": [],
   "source": [
    "import pickle\n",
    "import requests\n",
    "import spacy\n",
    "from spacytextblob.spacytextblob import SpacyTextBlob\n",
    "from collections import Counter\n",
    "from bs4 import BeautifulSoup\n",
    "import matplotlib.pyplot as plt\n",
    "from selenium import webdriver\n",
    "import time"
   ]
  },
  {
   "cell_type": "markdown",
   "metadata": {},
   "source": [
    "Question 1 code"
   ]
  },
  {
   "cell_type": "code",
   "execution_count": 50,
   "metadata": {},
   "outputs": [],
   "source": [
    "driver = webdriver.Chrome()\n",
    "url = 'https://www.gislounge.com/python-and-gis-resources/'\n",
    "driver.maximize_window()\n",
    "driver.get(url)\n",
    "\n",
    "time.sleep(5)\n",
    "content = driver.page_source.encode('utf-8').strip()\n",
    "\n",
    "# dumping into a .pkl\n",
    "with open('content.pkl', 'wb') as file:\n",
    "    pickle.dump(content, file)"
   ]
  },
  {
   "cell_type": "markdown",
   "metadata": {},
   "source": [
    "2. Read in your article's html source from the file you created in question 1 and do sentiment analysis on the article/post's text (use `.get_text()`).  Print the polarity score with an appropriate label.  Additionally print the number of sentences in the original article (with an appropriate label)"
   ]
  },
  {
   "cell_type": "markdown",
   "metadata": {},
   "source": [
    "Question 2 code"
   ]
  },
  {
   "cell_type": "code",
   "execution_count": 55,
   "metadata": {},
   "outputs": [
    {
     "name": "stdout",
     "output_type": "stream",
     "text": [
      "\n",
      "\t\t\tFind resources to web sites about Python scripting to use in GIS. Learn how to use Python to expand your geographic information system. Esri uses Python as its scripting language for ArcGIS and the language can be found in many open source GIS applications.   Also see: Learning Programming for GIS for general Python resources.\n",
      "Python is a scripting language incorporated into many GIS software applications such as ArcGIS and QGIS and is used to automate geoprocessing tasks.  Python scripts are essentially a command-based script containing data types, statements, and functions that make up the geoprocessing instructions.  Python files are denoted with the .py file extension.\n",
      "Using Python in ArcGIS\n",
      "Within ArcGIS, there are two options for working with and running python scripts: directly within ArcMap using the python window, or within an  Integrated Development Environment (IDE) such as PythonWin.\n",
      "Python can be run directly within ArcGIS by clicking on the Python button found on the standard toolbar.  By clicking the button, ArcMap’s python window opens.  The python window can be docked by dragging it to the toolbar or can be floated on top of ArcMap.  The python window is divide into two sections: the python prompt section and the help and syntax window.  The python prompt is found on the left side of the python window and this is the section where python prompts can be typed into or python scripts run.  The right side of the window provides information with syntax information that show up when a command is typed in on the left side.LATEST VIDEOSA brief introduction to GIS data: raster and vectorMore Videos0 seconds of 3 minutes, 37 secondsVolume 0%Press shift question mark to access a list of keyboard shortcutsKeyboard ShortcutsEnabledDisabledPlay/PauseSPACEIncrease Volume↑Decrease Volume↓Seek Forward→Seek Backward←Captions On/OffcFullscreen/Exit FullscreenfMute/UnmutemSeek %0-9Next UpWhat is map scale?01:38\n",
      "            \n",
      "                \n",
      "                    \n",
      "                    \n",
      "                    \n",
      "                \n",
      "            \n",
      "        Live00:0001:3803:37 \n",
      "To load a prewritten script into the python window, right click and select the “load” option from the menu.  Navigate to the folder where the python file is store and select.  Click the “open” button to add the script to the window.\n",
      "To run a loaded script, hit the “enter” button on the keyboard twice.  The right side will now print out status updates on the running script.  Running a python script within ArcMap allows the user to see dynamically the results of the outputs as the script processes each geoprocessing step.\n",
      "Python scripts for ArcMap processes can also be edited and run within an IDE.  IDE stands for Integrated Development Environment.  IDEs for python scripting include IDLE, PythonWin, PyScripter, and Wing.\n",
      "For further learning materials, Esri has compiled a Python for ArcGIS page which provides a variety of Esri-based and individually created resources for learning python including a beginner’s guide, tutorials, and sample scripts.\n",
      "Python Scripting for ArcGIS\n",
      "Learn about this book from Esri Press that teaches experienced users of ArcGIS how to develop their programming skills using Python without the need for prior programming experience.\n",
      "\n",
      "A Guide to the Python Universe for ESRI Users (PDF File)\n",
      "Overview and guide for GIS users to Python by Howard Butler from Iowa State University.\n",
      "Using Python in QGIS\n",
      "QGIS is an open source GIS which incorporated python as a scripting option starting with release 0.9.  The PyQGIS cookbook provides a good introductory text on how python is used with the QGIS environment.  The QGIS blog also has a list of QGIS tutorials in Python.\n",
      "QGIS Python Programming CookBook \n",
      "Learn how to use Python to create dynamic maps in QGIS with this free preview chapter of QGIS Python Programming CookBook.\n",
      "\n",
      "Open Source GIS and Python\n",
      "Geoprocessing with Python using Open Source GIS\n",
      "Structured  course outline by Chris Garrard of Utah State University with links to open source software, course slides, and data.\n",
      "Geopy\n",
      "Geocoding toolbox for Python.  Provides support for six geocoders: Google Maps, Yahoo! Maps, Windows Local Live (Virtual Earth), geocoder.us, GeoNames, MediaWiki pages (with the GIS extension), and Semantic MediaWiki pages.\n",
      "Python Cartographic Library\n",
      "The Python Cartography Library, or PCL, is a package of modules for rendering GIS data from a variety of backends into maps. Open source.\n",
      "Python and GIS 101\n",
      "From Sean Giles’ blog.\n",
      "\n",
      "Unofficial Python GIS SIG\n",
      "Discussion group for GIS developers using Python with a focus on exchanging ideas and peer support.\n",
      "Legacy GIS: Python for ArcView 3.x\n",
      "Using Python with ArcView 3.x\n",
      "Resources for using Python with ArcView 3.x software. Also contains links to Python examples and resources.\n",
      "AvPython\n",
      "Python language support for ArcView 3.x software which allows you to embed Python within ArcView 3.x\n",
      "\n",
      "Suggest a resource: editor@gislounge.com\n",
      "\t\n",
      "\t\tShare this article\t\n",
      "\t\n",
      "\t\n",
      "\n",
      "\t\t\n",
      "\t\t\n",
      "\t\n",
      "\tFacebook\n",
      "\n",
      "\n",
      "\t\t\n",
      "\t\t\n",
      "\t\n",
      "\tTwitter\n",
      "\n",
      "\n",
      "\t\t\n",
      "\t\t\n",
      "\t\n",
      "\tPinterest\n",
      "\n",
      "\n",
      "\t\t\n",
      "\t\t\n",
      "\t\n",
      "\tLinkedIn\n",
      "\n",
      "\n",
      "\t\t\n",
      "\t\t\n",
      "\t\n",
      "\tEmail\n",
      "\n",
      "\n",
      "\t\t\n",
      "\t\t\n",
      "\t\n",
      "\tPrint\n",
      "\n",
      "\t\t\n"
     ]
    }
   ],
   "source": [
    "with open('content.pkl', 'rb') as file:\n",
    "    code = pickle.load(file)\n",
    "\n",
    "soup = BeautifulSoup(code, 'html5lib')\n",
    "\n",
    "txt = soup.find('div', class_='entry-content')\n",
    "\n",
    "print(txt.get_text())"
   ]
  },
  {
   "cell_type": "markdown",
   "metadata": {},
   "source": [
    "3. Load the article text into a trained `spaCy` pipeline, and determine the 5 most frequent tokens (converted to lower case).  Print the common tokens with an appropriate label.  Additionally, print the tokens their frequencies (with appropriate labels)"
   ]
  },
  {
   "cell_type": "code",
   "execution_count": null,
   "metadata": {},
   "outputs": [],
   "source": []
  },
  {
   "cell_type": "markdown",
   "metadata": {},
   "source": [
    "4. Load the article text into a trained `spaCy` pipeline, and determine the 5 most frequent lemmas (converted to lower case).  Print the common lemmas with an appropriate label.  Additionally, print the lemmas with their frequencies (with appropriate labels)."
   ]
  },
  {
   "cell_type": "code",
   "execution_count": null,
   "metadata": {},
   "outputs": [],
   "source": []
  },
  {
   "cell_type": "markdown",
   "metadata": {},
   "source": [
    "5. Make a list containing the scores (using tokens) of every sentence in the article, and plot a histogram with appropriate titles and axis labels of the scores. From your histogram, what seems to be the most common range of scores (put the answer in a comment after your code)?"
   ]
  },
  {
   "cell_type": "code",
   "execution_count": null,
   "metadata": {},
   "outputs": [],
   "source": []
  },
  {
   "cell_type": "markdown",
   "metadata": {},
   "source": [
    "6. Make a list containing the scores (using lemmas) of every sentence in the article, and plot a histogram with appropriate titles and axis labels of the scores.  From your histogram, what seems to be the most common range of scores (put the answer in a comment after your code)?"
   ]
  },
  {
   "cell_type": "code",
   "execution_count": null,
   "metadata": {},
   "outputs": [],
   "source": []
  },
  {
   "cell_type": "markdown",
   "metadata": {},
   "source": [
    "7. Using the histograms from questions 5 and 6, decide a \"cutoff\" score for tokens and lemmas such that fewer than half the sentences would have a score greater than the cutoff score.  Record the scores in this Markdown cell\n",
    "\n",
    "* Cutoff Score (tokens): \n",
    "* Cutoff Score (lemmas):\n",
    "\n",
    "Feel free to change these scores as you generate your summaries.  Ideally, we're shooting for at least 6 sentences for our summary, but don't want more than 10 (these numbers are rough estimates; they depend on the length of your article)."
   ]
  },
  {
   "cell_type": "markdown",
   "metadata": {},
   "source": [
    "8. Create a summary of the article by going through every sentence in the article and adding it to an (initially) empty list if its score (based on tokens) is greater than the cutoff score you identified in question 8.  If your loop variable is named `sent`, you may find it easier to add `sent.text.strip()` to your list of sentences.  Print the summary (I would cleanly generate the summary text by `join`ing the strings in your list together with a space (`' '.join(sentence_list)`)."
   ]
  },
  {
   "cell_type": "code",
   "execution_count": null,
   "metadata": {},
   "outputs": [],
   "source": []
  },
  {
   "cell_type": "markdown",
   "metadata": {},
   "source": [
    "9. Print the polarity score of your summary you generated with the token scores (with an appropriate label). Additionally, print the number of sentences in the summarized article."
   ]
  },
  {
   "cell_type": "code",
   "execution_count": null,
   "metadata": {},
   "outputs": [],
   "source": []
  },
  {
   "cell_type": "markdown",
   "metadata": {},
   "source": [
    "10. Create a summary of the article by going through every sentence in the article and adding it to an (initially) empty list if its score (based on lemmas) is greater than the cutoff score you identified in question 8.  If your loop variable is named `sent`, you may find it easier to add `sent.text.strip()` to your list of sentences.  Print the summary (I would cleanly generate the summary text by `join`ing the strings in your list together with a space (`' '.join(sentence_list)`)."
   ]
  },
  {
   "cell_type": "code",
   "execution_count": null,
   "metadata": {},
   "outputs": [],
   "source": []
  },
  {
   "cell_type": "markdown",
   "metadata": {},
   "source": [
    "11. Print the polarity score of your summary you generated with the lemma scores (with an appropriate label). Additionally, print the number of sentences in the summarized article."
   ]
  },
  {
   "cell_type": "code",
   "execution_count": null,
   "metadata": {},
   "outputs": [],
   "source": []
  },
  {
   "cell_type": "markdown",
   "metadata": {},
   "source": [
    "12.  Compare your polarity scores of your summaries to the polarity scores of the initial article.  Is there a difference?  Why do you think that may or may not be?.  Answer in this Markdown cell.  "
   ]
  },
  {
   "cell_type": "markdown",
   "metadata": {},
   "source": [
    "13. Based on your reading of the original article, which summary do you think is better (if there's a difference).  Why do you think this might be?"
   ]
  }
 ],
 "metadata": {
  "kernelspec": {
   "display_name": "Python 3",
   "language": "python",
   "name": "python3"
  },
  "language_info": {
   "codemirror_mode": {
    "name": "ipython",
    "version": 3
   },
   "file_extension": ".py",
   "mimetype": "text/x-python",
   "name": "python",
   "nbconvert_exporter": "python",
   "pygments_lexer": "ipython3",
   "version": "3.9.15"
  }
 },
 "nbformat": 4,
 "nbformat_minor": 4
}
